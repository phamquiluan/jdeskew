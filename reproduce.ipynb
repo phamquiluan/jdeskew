{
 "cells": [
  {
   "cell_type": "markdown",
   "id": "5d06ea27",
   "metadata": {},
   "source": [
    "# ICIP 2022, notebook materials\n",
    "\n",
    "\n",
    "  - Reproduce the Proposed Method and PypiDeskew on two DISE 2021 datasets.\n",
    "  \n",
    " \n",
    "**Download dataset**:\n",
    "- [DISE2021_15](https://drive.google.com/file/d/1WvaSgMY-JXB5t8pHwK5HzbgSG4YDdxw5/view)\n",
    "- [DISE2021_45](https://drive.google.com/file/d/1S4VApXsIlUaCQZuuyedCQmcobdGZCpoJ/view)\n",
    "\n",
    "\n",
    "**Before run Jupyter Notebook, run the following commands in your shell (e.g. bash)**\n",
    "```\n",
    "# create a new virtual environment and activate it\n",
    "python3.9 -m venv env\n",
    "source env/bin/activate\n",
    "\n",
    "# install jupyter-notebook and run this file\n",
    "pip install jupyter\n",
    "jupyter-notebook\n",
    "```"
   ]
  },
  {
   "cell_type": "code",
   "execution_count": 1,
   "id": "9e438280",
   "metadata": {},
   "outputs": [
    {
     "name": "stdout",
     "output_type": "stream",
     "text": [
      "Collecting opencv-python\n",
      "  Downloading opencv_python-4.5.4.58-cp39-cp39-manylinux_2_17_x86_64.manylinux2014_x86_64.whl (60.3 MB)\n",
      "\u001b[K     |████████████████████████████████| 60.3 MB 5.0 MB/s eta 0:00:01\n",
      "\u001b[?25hCollecting numpy\n",
      "  Downloading numpy-1.21.4-cp39-cp39-manylinux_2_12_x86_64.manylinux2010_x86_64.whl (15.7 MB)\n",
      "\u001b[K     |████████████████████████████████| 15.7 MB 107.3 MB/s eta 0:00:01\n",
      "\u001b[?25hCollecting tqdm\n",
      "  Downloading tqdm-4.62.3-py2.py3-none-any.whl (76 kB)\n",
      "\u001b[K     |████████████████████████████████| 76 kB 9.6 MB/s s eta 0:00:01\n",
      "\u001b[?25hInstalling collected packages: numpy, tqdm, opencv-python\n",
      "Successfully installed numpy-1.21.4 opencv-python-4.5.4.58 tqdm-4.62.3\n",
      "\u001b[33mWARNING: You are using pip version 21.2.3; however, version 21.3.1 is available.\n",
      "You should consider upgrading via the '/home/ubuntu/research/lib-table/env/bin/python3.9 -m pip install --upgrade pip' command.\u001b[0m\n"
     ]
    }
   ],
   "source": [
    "!pip install opencv-python numpy tqdm"
   ]
  },
  {
   "cell_type": "code",
   "execution_count": 3,
   "id": "9dfc8195",
   "metadata": {},
   "outputs": [],
   "source": [
    "import cv2\n",
    "import numpy as np\n",
    "\n",
    "\n",
    "def ensure_gray(image):\n",
    "    try:\n",
    "        image = cv2.cvtColor(image, cv2.COLOR_BGR2GRAY)\n",
    "    except cv2.error:\n",
    "        pass\n",
    "    return image\n",
    "\n",
    "\n",
    "def ensure_optimal_square(image):\n",
    "    assert image is not None, image\n",
    "    nw = nh = cv2.getOptimalDFTSize(max(image.shape[:2]))\n",
    "    output_image = cv2.copyMakeBorder(\n",
    "        src=image,\n",
    "        top=0,\n",
    "        bottom=nh - image.shape[0],\n",
    "        left=0,\n",
    "        right=nw - image.shape[1],\n",
    "        borderType=cv2.BORDER_CONSTANT,\n",
    "        value=255,\n",
    "    )\n",
    "    return output_image\n",
    "\n",
    "\n",
    "def get_fft_magnitude(image):\n",
    "    gray = ensure_gray(image)\n",
    "    opt_gray = ensure_optimal_square(gray)\n",
    "\n",
    "    # thresh\n",
    "    opt_gray = cv2.adaptiveThreshold(\n",
    "        ~opt_gray, 255, cv2.ADAPTIVE_THRESH_GAUSSIAN_C, cv2.THRESH_BINARY, 15, -10\n",
    "    )\n",
    "\n",
    "    # perform fft\n",
    "    dft = np.fft.fft2(opt_gray)\n",
    "    shifted_dft = np.fft.fftshift(dft)\n",
    "\n",
    "    # get the magnitude (module)\n",
    "    magnitude = np.abs(shifted_dft)\n",
    "    # magnitude = magnitude / np.max(magnitude)\n",
    "\n",
    "    return magnitude\n",
    "\n",
    "\n",
    "def _get_angle_adaptive(m, amax=None, num=None, W=None):\n",
    "    assert m.shape[0] == m.shape[1]\n",
    "    r = c = m.shape[0] // 2\n",
    "\n",
    "    if W is None:\n",
    "        W = m.shape[0] // 10\n",
    "\n",
    "    if amax is None:\n",
    "        amax = 15\n",
    "\n",
    "    if num is None:\n",
    "        num = 20\n",
    "\n",
    "    tr = np.linspace(-1 * amax, amax, amax * num * 2) / 180 * np.pi\n",
    "    profile_arr = tr.copy()\n",
    "\n",
    "    def f(t):\n",
    "        _f = np.vectorize(\n",
    "            lambda x: m[c + int(x * np.cos(t)), c + int(-1 * x * np.sin(t))]\n",
    "        )\n",
    "        _l = _f(range(0, r))\n",
    "        val_init = np.sum(_l)\n",
    "        val_correct = np.sum(_l[W:])\n",
    "        return val_init, val_correct\n",
    "\n",
    "    vf = np.vectorize(f)\n",
    "\n",
    "    li = vf(profile_arr)\n",
    "    li_init = li[0]\n",
    "    li_correct = li[1]\n",
    "\n",
    "    a_init = tr[np.argmax(li_init)] / np.pi * 180\n",
    "    a_correct = tr[np.argmax(li_correct)] / np.pi * 180\n",
    "\n",
    "    dist = a_init - a_correct\n",
    "    if a_init < a_correct:\n",
    "        dist = a_correct - a_init\n",
    "\n",
    "    return -1 * a_init, -1 * a_correct, dist\n",
    "\n",
    "\n",
    "def get_angle(image, amax=None, V=None, W=None, D=None, train_D=False):\n",
    "    assert isinstance(image, np.ndarray), image\n",
    "\n",
    "    if amax is None:\n",
    "        amax = 15\n",
    "    if V is None:\n",
    "        V = 1024\n",
    "    if W is None:\n",
    "        W = 0\n",
    "    if D is None:\n",
    "        D = 0.45\n",
    "\n",
    "    ratio = V / image.shape[0]\n",
    "    image = cv2.resize(image, None, fx=ratio, fy=ratio)\n",
    "\n",
    "    magnitude = get_fft_magnitude(image)\n",
    "    a_init, a_correct, dist = _get_angle_adaptive(magnitude, amax=amax, W=W)\n",
    "\n",
    "    if train_D is True:\n",
    "        return a_init, a_correct, dist\n",
    "\n",
    "    if dist <= D:\n",
    "        return a_correct\n",
    "    return a_init"
   ]
  },
  {
   "cell_type": "code",
   "execution_count": 4,
   "id": "e3db6dc8",
   "metadata": {},
   "outputs": [],
   "source": [
    "import glob\n",
    "import os\n",
    "from multiprocessing import Manager\n",
    "from multiprocessing.pool import Pool\n",
    "\n",
    "from tqdm import tqdm\n",
    "\n",
    "\n",
    "manager = Manager()\n",
    "elist = manager.list()\n",
    "\n",
    "amax, V, W, D = 15, 1024, 274, 0.7\n",
    "data_dir = \"./data/dise2021_15/dise2021_test/*\"\n",
    "\n",
    "def w(image_path):\n",
    "    image_name = os.path.basename(image_path)\n",
    "    gt = float(image_name[image_name.find(\"[\") + 1 : image_name.find(\"]\")])\n",
    "\n",
    "    image = cv2.imread(image_path)\n",
    "    pd = get_angle(image, amax=amax, V=V, W=W, D=D)\n",
    "    e = round(abs(gt - pd), 2)\n",
    "\n",
    "    elist.append(e)\n",
    "\n",
    "def eval_func():\n",
    "    elist[:] = []\n",
    "    with Pool(int(os.cpu_count() * 0.98)) as p:\n",
    "        total_length = len(glob.glob(data_dir))\n",
    "        list(tqdm(p.imap_unordered(w, glob.glob(data_dir)), total=total_length))\n",
    "\n",
    "    ce = sum(e <= 0.1 for e in elist) / len(elist)\n",
    "    aed = sum(elist) / len(elist)\n",
    "    elist80 = sorted(elist)[: int(len(elist) * 0.8)]\n",
    "    top80 = sum(elist80) / len(elist80)\n",
    "\n",
    "    print(f\"AED: {aed:.2f}\")\n",
    "    print(f\"TOP80: {top80:.2f}\")\n",
    "    print(f\"CE: {ce:.2f}\")\n",
    "    print(f\"WORST: {max(elist)}\")"
   ]
  },
  {
   "cell_type": "markdown",
   "id": "94eef1dc",
   "metadata": {},
   "source": [
    "# Table 4: Our - DISE (15)"
   ]
  },
  {
   "cell_type": "code",
   "execution_count": 5,
   "id": "5f96a76a",
   "metadata": {},
   "outputs": [
    {
     "name": "stderr",
     "output_type": "stream",
     "text": [
      "100%|███████████████████████████████████████| 1491/1491 [00:39<00:00, 37.64it/s]\n"
     ]
    },
    {
     "name": "stdout",
     "output_type": "stream",
     "text": [
      "AED: 0.11\n",
      "TOP80: 0.07\n",
      "CE: 0.67\n",
      "WORST: 1.13\n"
     ]
    }
   ],
   "source": [
    "data_dir = \"./data/dise2021_15/dise2021_test/*\"\n",
    "amax, V, W, D = 15, 1024, 274, 0.7\n",
    "eval_func()"
   ]
  },
  {
   "cell_type": "code",
   "execution_count": 6,
   "id": "155bbdfe",
   "metadata": {},
   "outputs": [
    {
     "name": "stderr",
     "output_type": "stream",
     "text": [
      "100%|███████████████████████████████████████| 1491/1491 [00:58<00:00, 25.56it/s]\n"
     ]
    },
    {
     "name": "stdout",
     "output_type": "stream",
     "text": [
      "AED: 0.09\n",
      "TOP80: 0.05\n",
      "CE: 0.78\n",
      "WORST: 1.13\n"
     ]
    }
   ],
   "source": [
    "data_dir = \"./data/dise2021_15/dise2021_test/*\"\n",
    "amax, V, W, D = 15, 1500, 328, 0.55\n",
    "eval_func()"
   ]
  },
  {
   "cell_type": "code",
   "execution_count": 7,
   "id": "b12ee859",
   "metadata": {},
   "outputs": [
    {
     "name": "stderr",
     "output_type": "stream",
     "text": [
      "100%|███████████████████████████████████████| 1491/1491 [01:22<00:00, 18.16it/s]\n"
     ]
    },
    {
     "name": "stdout",
     "output_type": "stream",
     "text": [
      "AED: 0.08\n",
      "TOP80: 0.04\n",
      "CE: 0.84\n",
      "WORST: 1.13\n"
     ]
    }
   ],
   "source": [
    "data_dir = \"./data/dise2021_15/dise2021_test/*\"\n",
    "amax, V, W, D = 15, 2048, 304, 0.55\n",
    "eval_func()"
   ]
  },
  {
   "cell_type": "code",
   "execution_count": 9,
   "id": "e71cdc9e",
   "metadata": {},
   "outputs": [
    {
     "name": "stderr",
     "output_type": "stream",
     "text": [
      "100%|███████████████████████████████████████| 1491/1491 [02:09<00:00, 11.50it/s]\n"
     ]
    },
    {
     "name": "stdout",
     "output_type": "stream",
     "text": [
      "AED: 0.07\n",
      "TOP80: 0.03\n",
      "CE: 0.86\n",
      "WORST: 1.13\n"
     ]
    }
   ],
   "source": [
    "data_dir = \"./data/dise2021_15/dise2021_test/*\"\n",
    "amax, V, W, D = 15, 3072, 328, 0.55\n",
    "eval_func()"
   ]
  },
  {
   "cell_type": "code",
   "execution_count": 10,
   "id": "59b7e615",
   "metadata": {},
   "outputs": [
    {
     "name": "stderr",
     "output_type": "stream",
     "text": [
      "100%|███████████████████████████████████████| 1491/1491 [03:17<00:00,  7.54it/s]\n"
     ]
    },
    {
     "name": "stdout",
     "output_type": "stream",
     "text": [
      "AED: 0.08\n",
      "TOP80: 0.04\n",
      "CE: 0.83\n",
      "WORST: 1.18\n"
     ]
    }
   ],
   "source": [
    "data_dir = \"./data/dise2021_15/dise2021_test/*\"\n",
    "amax, V, W, D = 15, 4096, 250, 0.5\n",
    "eval_func()"
   ]
  },
  {
   "cell_type": "code",
   "execution_count": null,
   "id": "5c1ebc61",
   "metadata": {},
   "outputs": [],
   "source": []
  },
  {
   "cell_type": "markdown",
   "id": "649db238",
   "metadata": {},
   "source": [
    "# Table 4: Our - DISE (44.9)"
   ]
  },
  {
   "cell_type": "code",
   "execution_count": 11,
   "id": "1f01d048",
   "metadata": {},
   "outputs": [
    {
     "name": "stderr",
     "output_type": "stream",
     "text": [
      "100%|███████████████████████████████████████| 2800/2800 [03:32<00:00, 13.19it/s]\n"
     ]
    },
    {
     "name": "stdout",
     "output_type": "stream",
     "text": [
      "AED: 0.09\n",
      "TOP80: 0.05\n",
      "CE: 0.73\n",
      "WORST: 0.91\n"
     ]
    }
   ],
   "source": [
    "data_dir = \"./data/dise2021_45/test/*\"\n",
    "amax, V, W, D = 45, 1024, 274, 0.7\n",
    "eval_func()"
   ]
  },
  {
   "cell_type": "code",
   "execution_count": 12,
   "id": "86b767ee",
   "metadata": {},
   "outputs": [
    {
     "name": "stderr",
     "output_type": "stream",
     "text": [
      "100%|███████████████████████████████████████| 2800/2800 [05:07<00:00,  9.11it/s]\n"
     ]
    },
    {
     "name": "stdout",
     "output_type": "stream",
     "text": [
      "AED: 0.08\n",
      "TOP80: 0.04\n",
      "CE: 0.82\n",
      "WORST: 0.89\n"
     ]
    }
   ],
   "source": [
    "data_dir = \"./data/dise2021_45/test/*\"\n",
    "amax, V, W, D = 45, 1500, 328, 0.55\n",
    "eval_func()"
   ]
  },
  {
   "cell_type": "code",
   "execution_count": 13,
   "id": "90753c00",
   "metadata": {},
   "outputs": [
    {
     "name": "stderr",
     "output_type": "stream",
     "text": [
      "100%|███████████████████████████████████████| 2800/2800 [07:02<00:00,  6.63it/s]\n"
     ]
    },
    {
     "name": "stdout",
     "output_type": "stream",
     "text": [
      "AED: 0.06\n",
      "TOP80: 0.03\n",
      "CE: 0.87\n",
      "WORST: 1.06\n"
     ]
    }
   ],
   "source": [
    "data_dir = \"./data/dise2021_45/test/*\"\n",
    "amax, V, W, D = 45, 2048, 304, 0.55\n",
    "eval_func()"
   ]
  },
  {
   "cell_type": "code",
   "execution_count": 14,
   "id": "c5429b17",
   "metadata": {},
   "outputs": [
    {
     "name": "stderr",
     "output_type": "stream",
     "text": [
      "100%|███████████████████████████████████████| 2800/2800 [10:38<00:00,  4.39it/s]\n"
     ]
    },
    {
     "name": "stdout",
     "output_type": "stream",
     "text": [
      "AED: 0.05\n",
      "TOP80: 0.02\n",
      "CE: 0.89\n",
      "WORST: 1.06\n"
     ]
    }
   ],
   "source": [
    "data_dir = \"./data/dise2021_45/test/*\"\n",
    "amax, V, W, D = 45, 3072, 328, 0.55\n",
    "eval_func()"
   ]
  },
  {
   "cell_type": "code",
   "execution_count": 15,
   "id": "0fd0c7c3",
   "metadata": {},
   "outputs": [
    {
     "name": "stderr",
     "output_type": "stream",
     "text": [
      "100%|███████████████████████████████████████| 2800/2800 [14:58<00:00,  3.12it/s]\n"
     ]
    },
    {
     "name": "stdout",
     "output_type": "stream",
     "text": [
      "AED: 0.06\n",
      "TOP80: 0.03\n",
      "CE: 0.86\n",
      "WORST: 1.06\n"
     ]
    }
   ],
   "source": [
    "data_dir = \"./data/dise2021_45/test/*\"\n",
    "amax, V, W, D = 45, 4096, 250, 0.5\n",
    "eval_func()"
   ]
  },
  {
   "cell_type": "code",
   "execution_count": null,
   "id": "cf8ea89c",
   "metadata": {},
   "outputs": [],
   "source": []
  },
  {
   "cell_type": "markdown",
   "id": "b6c8db29",
   "metadata": {},
   "source": [
    "# Table 4 - PypiDeskew"
   ]
  },
  {
   "cell_type": "code",
   "execution_count": 16,
   "id": "921dd90e",
   "metadata": {},
   "outputs": [
    {
     "name": "stdout",
     "output_type": "stream",
     "text": [
      "\u001b[33mWARNING: You are using pip version 21.2.3; however, version 21.3.1 is available.\r\n",
      "You should consider upgrading via the '/home/ubuntu/research/lib-table/env/bin/python3.9 -m pip install --upgrade pip' command.\u001b[0m\r\n"
     ]
    }
   ],
   "source": [
    "!pip install -q deskew"
   ]
  },
  {
   "cell_type": "code",
   "execution_count": 17,
   "id": "7a92b8d3",
   "metadata": {},
   "outputs": [],
   "source": [
    "import warnings\n",
    "warnings.filterwarnings(\"ignore\")"
   ]
  },
  {
   "cell_type": "code",
   "execution_count": 18,
   "id": "41eafb08",
   "metadata": {},
   "outputs": [
    {
     "name": "stderr",
     "output_type": "stream",
     "text": [
      "100%|███████████████████████████████████████| 1491/1491 [00:48<00:00, 30.46it/s]\n"
     ]
    },
    {
     "name": "stdout",
     "output_type": "stream",
     "text": [
      "AED: 16.59\n",
      "TOP80: 0.24\n",
      "CE: 0.20\n",
      "WORST: 141.24\n"
     ]
    },
    {
     "name": "stderr",
     "output_type": "stream",
     "text": [
      "100%|███████████████████████████████████████| 2800/2800 [01:29<00:00, 31.44it/s]\n"
     ]
    },
    {
     "name": "stdout",
     "output_type": "stream",
     "text": [
      "AED: 21.79\n",
      "TOP80: 2.51\n",
      "CE: 0.14\n",
      "WORST: 179.45\n"
     ]
    }
   ],
   "source": [
    "# according to the README at https://github.com/sbrunner/deskew\n",
    "from deskew import determine_skew\n",
    "from skimage import io\n",
    "from skimage.color import rgb2gray\n",
    "\n",
    "def w(image_path):\n",
    "    image_name = os.path.basename(image_path)\n",
    "    gt = float(image_name[image_name.find(\"[\") + 1 : image_name.find(\"]\")])\n",
    "\n",
    "    image = io.imread(image_path)\n",
    "    grayscale = rgb2gray(image)\n",
    "    pd = determine_skew(grayscale)\n",
    "\n",
    "    if pd is None:  # give them a favor, don't take into account cases they can't run\n",
    "        return\n",
    "    e = round(abs(gt + pd), 2)\n",
    "\n",
    "    elist.append(e)\n",
    "\n",
    "data_dir = \"./data/dise2021_15/dise2021_test/*\"\n",
    "eval_func()\n",
    "\n",
    "data_dir = \"./data/dise2021_45/test/*\"\n",
    "eval_func()"
   ]
  },
  {
   "cell_type": "code",
   "execution_count": null,
   "id": "096d26dd",
   "metadata": {},
   "outputs": [],
   "source": []
  },
  {
   "cell_type": "code",
   "execution_count": null,
   "id": "e8cdc1b2",
   "metadata": {},
   "outputs": [],
   "source": []
  },
  {
   "cell_type": "code",
   "execution_count": null,
   "id": "2bd8c4f8",
   "metadata": {},
   "outputs": [],
   "source": []
  }
 ],
 "metadata": {
  "kernelspec": {
   "display_name": "Python 3 (ipykernel)",
   "language": "python",
   "name": "python3"
  },
  "language_info": {
   "codemirror_mode": {
    "name": "ipython",
    "version": 3
   },
   "file_extension": ".py",
   "mimetype": "text/x-python",
   "name": "python",
   "nbconvert_exporter": "python",
   "pygments_lexer": "ipython3",
   "version": "3.9.13"
  }
 },
 "nbformat": 4,
 "nbformat_minor": 5
}
